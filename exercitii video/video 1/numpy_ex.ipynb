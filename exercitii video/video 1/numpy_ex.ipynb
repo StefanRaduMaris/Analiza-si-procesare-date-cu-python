{
 "cells": [
  {
   "cell_type": "code",
   "execution_count": 60,
   "id": "108fa32b",
   "metadata": {},
   "outputs": [],
   "source": [
    "import numpy as np"
   ]
  },
  {
   "cell_type": "code",
   "execution_count": 61,
   "id": "9155fa4b",
   "metadata": {},
   "outputs": [
    {
     "data": {
      "text/plain": [
       "(array([1, 2, 3]), dtype('int64'))"
      ]
     },
     "execution_count": 61,
     "metadata": {},
     "output_type": "execute_result"
    }
   ],
   "source": [
    "array=np.array([1,2,3])\n",
    "\n",
    "array,array.dtype\n"
   ]
  },
  {
   "cell_type": "code",
   "execution_count": 62,
   "id": "7a4ab8db",
   "metadata": {},
   "outputs": [
    {
     "data": {
      "text/plain": [
       "array([0, 1, 2, 3, 4, 5, 6])"
      ]
     },
     "execution_count": 62,
     "metadata": {},
     "output_type": "execute_result"
    }
   ],
   "source": [
    "np.array(range(7))"
   ]
  },
  {
   "cell_type": "code",
   "execution_count": 63,
   "id": "a9f324e3",
   "metadata": {},
   "outputs": [
    {
     "data": {
      "text/plain": [
       "array([15, 16, 17, 18, 19, 20, 21, 22, 23, 24, 25, 26, 27, 28])"
      ]
     },
     "execution_count": 63,
     "metadata": {},
     "output_type": "execute_result"
    }
   ],
   "source": [
    "np.array(range(15,29))"
   ]
  },
  {
   "cell_type": "code",
   "execution_count": 64,
   "id": "6fb51e41",
   "metadata": {},
   "outputs": [
    {
     "data": {
      "text/plain": [
       "array([15, 16, 17, 18, 19, 20, 21, 22, 23, 24, 25, 26, 27, 28])"
      ]
     },
     "execution_count": 64,
     "metadata": {},
     "output_type": "execute_result"
    }
   ],
   "source": [
    "np.arange(15,29)"
   ]
  },
  {
   "cell_type": "code",
   "execution_count": 65,
   "id": "41546004",
   "metadata": {},
   "outputs": [
    {
     "data": {
      "text/plain": [
       "(np.int64(10), np.int64(0))"
      ]
     },
     "execution_count": 65,
     "metadata": {},
     "output_type": "execute_result"
    }
   ],
   "source": [
    "array = np.array([10,50,402,49,200,16 ,486])\n",
    "array.min() , array.argmin()\n"
   ]
  },
  {
   "cell_type": "code",
   "execution_count": 66,
   "id": "b73b2cef",
   "metadata": {},
   "outputs": [
    {
     "data": {
      "text/plain": [
       "array([ 50, 402,  49, 200, 486])"
      ]
     },
     "execution_count": 66,
     "metadata": {},
     "output_type": "execute_result"
    }
   ],
   "source": [
    "array[array>20]"
   ]
  },
  {
   "cell_type": "markdown",
   "id": "ec731412",
   "metadata": {},
   "source": [
    "array[array > 50]"
   ]
  },
  {
   "cell_type": "code",
   "execution_count": 67,
   "id": "4d46485e",
   "metadata": {},
   "outputs": [
    {
     "data": {
      "text/plain": [
       "array([ 16, 486])"
      ]
     },
     "execution_count": 67,
     "metadata": {},
     "output_type": "execute_result"
    }
   ],
   "source": [
    "array[-2:]"
   ]
  },
  {
   "cell_type": "code",
   "execution_count": 68,
   "id": "9baf3956",
   "metadata": {},
   "outputs": [
    {
     "data": {
      "text/plain": [
       "array([402, 200, 486])"
      ]
     },
     "execution_count": 68,
     "metadata": {},
     "output_type": "execute_result"
    }
   ],
   "source": [
    "array[(array % 2==0) & (array > 50)]"
   ]
  },
  {
   "cell_type": "code",
   "execution_count": 69,
   "id": "ebc2d1be",
   "metadata": {},
   "outputs": [
    {
     "data": {
      "text/plain": [
       "array([ 10, 402,  16, 486])"
      ]
     },
     "execution_count": 69,
     "metadata": {},
     "output_type": "execute_result"
    }
   ],
   "source": [
    "array[(array % 3==0) | (array < 40)]"
   ]
  },
  {
   "cell_type": "code",
   "execution_count": 74,
   "id": "01ef5f9f",
   "metadata": {},
   "outputs": [
    {
     "data": {
      "text/plain": [
       "array([1923, 1924, 1925, 1926, 1927, 1928, 1929, 1930, 1931, 1932, 1933,\n",
       "       1934, 1935, 1936, 1937, 1938, 1939, 1940, 1941, 1942, 1943, 1944,\n",
       "       1945, 1946, 1947, 1948, 1949, 1950, 1951, 1952, 1953, 1954, 1955,\n",
       "       1956, 1957, 1958, 1959, 1960, 1961, 1962, 1963, 1964, 1965, 1966,\n",
       "       1967, 1968, 1969, 1970, 1971, 1972, 1973, 1974, 1975, 1976, 1977,\n",
       "       1978, 1979, 1980, 1981, 1982, 1983, 1984, 1985, 1986, 1987, 1988,\n",
       "       1989, 1990, 1991, 1992, 1993, 1994, 1995, 1996, 1997, 1998, 1999,\n",
       "       2000, 2001, 2002, 2003, 2004, 2005, 2006, 2007, 2008, 2009, 2010,\n",
       "       2011, 2012, 2013, 2014, 2015, 2016, 2017, 2018, 2019, 2020, 2021])"
      ]
     },
     "execution_count": 74,
     "metadata": {},
     "output_type": "execute_result"
    }
   ],
   "source": [
    "array=np.arange(1923,2022)\n",
    "array"
   ]
  },
  {
   "cell_type": "code",
   "execution_count": 77,
   "id": "95c3ba57",
   "metadata": {},
   "outputs": [
    {
     "data": {
      "text/plain": [
       "array([1924, 1928, 1932, 1936, 1940, 1944, 1948, 1952, 1956, 1960, 1964,\n",
       "       1968, 1972, 1976, 1980, 1984, 1988, 1992, 1996, 2000, 2004, 2008,\n",
       "       2012, 2016, 2020])"
      ]
     },
     "execution_count": 77,
     "metadata": {},
     "output_type": "execute_result"
    }
   ],
   "source": [
    "array[(array % 400==0) | (array % 4==0) & (array % 100!=0)]"
   ]
  },
  {
   "cell_type": "markdown",
   "id": "162aadc9",
   "metadata": {},
   "source": []
  }
 ],
 "metadata": {
  "kernelspec": {
   "display_name": "Python 3",
   "language": "python",
   "name": "python3"
  },
  "language_info": {
   "codemirror_mode": {
    "name": "ipython",
    "version": 3
   },
   "file_extension": ".py",
   "mimetype": "text/x-python",
   "name": "python",
   "nbconvert_exporter": "python",
   "pygments_lexer": "ipython3",
   "version": "3.13.5"
  }
 },
 "nbformat": 4,
 "nbformat_minor": 5
}
